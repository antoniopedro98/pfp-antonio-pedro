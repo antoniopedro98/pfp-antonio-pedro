{
 "cells": [
  {
   "cell_type": "markdown",
   "id": "e51a08d7",
   "metadata": {},
   "source": [
    "# Question D3"
   ]
  },
  {
   "cell_type": "markdown",
   "id": "2fd949b9",
   "metadata": {},
   "source": [
    "*Question*: What is the size of the organization you currently work for?"
   ]
  },
  {
   "cell_type": "markdown",
   "id": "909b1af1",
   "metadata": {},
   "source": [
    "*Answer Type*: Single Option"
   ]
  },
  {
   "cell_type": "markdown",
   "id": "9e69ad6a",
   "metadata": {},
   "source": [
    "*Options*: [1-10 employees, 11-50 employees, 51-250 employees, 251-500 employees, 501-1,000 employees, 1,001-2,000 employees, More than 2,000 employees]"
   ]
  },
  {
   "cell_type": "markdown",
   "id": "abaedda1",
   "metadata": {},
   "source": [
    "### Necessary Libraries"
   ]
  },
  {
   "cell_type": "code",
   "execution_count": null,
   "id": "473efead",
   "metadata": {},
   "outputs": [],
   "source": []
  },
  {
   "cell_type": "markdown",
   "id": "5b60fc63",
   "metadata": {},
   "source": [
    "### Basic Analysis"
   ]
  },
  {
   "cell_type": "code",
   "execution_count": null,
   "id": "83000cd3",
   "metadata": {},
   "outputs": [],
   "source": []
  },
  {
   "cell_type": "markdown",
   "id": "2362eae7",
   "metadata": {},
   "source": [
    "### Bootstrapping Analysis"
   ]
  },
  {
   "cell_type": "code",
   "execution_count": null,
   "id": "82c8c82f",
   "metadata": {},
   "outputs": [],
   "source": []
  }
 ],
 "metadata": {
  "kernelspec": {
   "display_name": "Python 3 (ipykernel)",
   "language": "python",
   "name": "python3"
  },
  "language_info": {
   "codemirror_mode": {
    "name": "ipython",
    "version": 3
   },
   "file_extension": ".py",
   "mimetype": "text/x-python",
   "name": "python",
   "nbconvert_exporter": "python",
   "pygments_lexer": "ipython3",
   "version": "3.10.7"
  }
 },
 "nbformat": 4,
 "nbformat_minor": 5
}
