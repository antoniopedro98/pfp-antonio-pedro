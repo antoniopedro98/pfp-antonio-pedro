{
 "cells": [
  {
   "cell_type": "markdown",
   "id": "604fda86-12e1-4dd7-970d-b6b6d362e65d",
   "metadata": {},
   "source": [
    "# Survey Basic Analysis"
   ]
  },
  {
   "cell_type": "markdown",
   "id": "4a9f81b2-6072-42bc-866a-0d390b4e17fd",
   "metadata": {},
   "source": [
    "### Necessary Libraries"
   ]
  },
  {
   "cell_type": "code",
   "execution_count": 3,
   "id": "ebeec68a-11a8-4f13-91e7-674c125c3c16",
   "metadata": {},
   "outputs": [],
   "source": [
    "import pandas as pd\n",
    "from utils.basic import rename_values\n",
    "from utils.dataframe import DataframeUtils\n",
    "from utils.plot import PlotUtils\n",
    "from utils.bootstrapping import BootstrappingUtils"
   ]
  },
  {
   "cell_type": "markdown",
   "id": "b2dc2756-30d0-46ab-90e6-cdcf9bc9760b",
   "metadata": {},
   "source": [
    "### Dataframe Init"
   ]
  },
  {
   "cell_type": "code",
   "execution_count": 4,
   "id": "5c764afd-281e-4afe-839e-370e06fc7c4f",
   "metadata": {},
   "outputs": [],
   "source": [
    "dataframe_obj = DataframeUtils('./data/main_data.csv', ';', './data/unused_columns.txt', './data/formatted_columns.txt')\n",
    "# the index is not important, but when we internally format df we need to reset index\n",
    "dataframe_obj.df = dataframe_obj.df.reset_index(drop=True)"
   ]
  },
  {
   "cell_type": "markdown",
   "id": "aedf063c-bf3b-48ae-ab8a-5cfd62875517",
   "metadata": {},
   "source": [
    "### Analysis"
   ]
  },
  {
   "cell_type": "code",
   "execution_count": 5,
   "id": "b5e24ec0-6649-40f9-ae06-87d24e184444",
   "metadata": {},
   "outputs": [
    {
     "data": {
      "text/plain": [
       "Index(['ID', 'Status', 'Duration', 'D1_Undergraduation', 'D1_Specialization',\n",
       "       'D1_Master', 'D1_Phd', 'D1_Courses', 'D1_Others', 'D2_Country',\n",
       "       ...\n",
       "       'Q15_Model_Deploy_Production_Monitoring',\n",
       "       'Q16_Model_Monitor_Aspects_Input_And_Output',\n",
       "       'Q16_Model_Monitor_Aspects_Interpretability_Output',\n",
       "       'Q16_Model_Monitor_Aspects_Output_And_Decisions',\n",
       "       'Q16_Model_Monitor_Aspects_Fairness',\n",
       "       'Q16_Model_Monitor_Aspects_Others',\n",
       "       'Q16_Model_Monitor_Aspects_Others_Free',\n",
       "       'Q17_Automated_Machine_Learning_Tools_Yes_No',\n",
       "       'Q17_Automated_Machine_Learning_Tools_Yes_Free', 'Origin'],\n",
       "      dtype='object', length=202)"
      ]
     },
     "execution_count": 5,
     "metadata": {},
     "output_type": "execute_result"
    }
   ],
   "source": [
    "dataframe_obj.df.columns"
   ]
  },
  {
   "cell_type": "code",
   "execution_count": 6,
   "id": "5b9598b9-295b-41e2-9ee8-1cb898f927b4",
   "metadata": {},
   "outputs": [
    {
     "data": {
      "text/plain": [
       "['D1_Undergraduation',\n",
       " 'D1_Specialization',\n",
       " 'D1_Master',\n",
       " 'D1_Phd',\n",
       " 'D1_Courses',\n",
       " 'D1_Others',\n",
       " 'D2_Country',\n",
       " 'D3_Company_Size',\n",
       " 'D4_Role',\n",
       " 'D4_Role_Others',\n",
       " 'D5_Software_Experience',\n",
       " 'D6_ML_Experience',\n",
       " 'D7_Total_ML_Projects',\n",
       " 'D8_ML_Production',\n",
       " 'D9_ML_Project_Team_Size',\n",
       " 'D10_ML_Management_Framework_None',\n",
       " 'D10_ML_Management_Framework_CRISP-DM',\n",
       " 'D10_ML_Management_Framework_Kanban',\n",
       " 'D10_ML_Management_Framework_Lean',\n",
       " 'D10_ML_Management_Framework_RUP',\n",
       " 'D10_ML_Management_Framework_SAFe',\n",
       " 'D10_ML_Management_Framework_Scrum',\n",
       " 'D10_ML_Management_Framework_Others',\n",
       " 'D10_ML_Management_Framework_Others_Free',\n",
       " 'D11_Agile_Development',\n",
       " 'D12_ML_Project_Context_Banking',\n",
       " 'D12_ML_Project_Context_Defense',\n",
       " 'D12_ML_Project_Context_Education',\n",
       " 'D12_ML_Project_Context_Embedded',\n",
       " 'D12_ML_Project_Context_Entertainment',\n",
       " 'D12_ML_Project_Context_Healthcare',\n",
       " 'D12_ML_Project_Context_Insurance',\n",
       " 'D12_ML_Project_Context_Logistics',\n",
       " 'D12_ML_Project_Context_Oil',\n",
       " 'D12_ML_Project_Context_Sales',\n",
       " 'D12_ML_Project_Context_Tellecom',\n",
       " 'D12_ML_Project_Context_Others',\n",
       " 'D12_ML_Project_Context_Others_Free',\n",
       " 'D13_ML_Programming_Language_C',\n",
       " 'D13_ML_Programming_Language_Java',\n",
       " 'D13_ML_Programming_Language_Javascript',\n",
       " 'D13_ML_Programming_Language_Julia',\n",
       " 'D13_ML_Programming_Language_MatLab',\n",
       " 'D13_ML_Programming_Language_Python',\n",
       " 'D13_ML_Programming_Language_R',\n",
       " 'D13_ML_Programming_Language_Others',\n",
       " 'D13_ML_Programming_Language_Others_Free',\n",
       " 'D14_ML_Purpose_Prediction',\n",
       " 'D14_ML_Purpose_Prediction_Free',\n",
       " 'D14_ML_Purpose_Classification',\n",
       " 'D14_ML_Purpose_Classification_Free',\n",
       " 'D14_ML_Purpose_Association',\n",
       " 'D14_ML_Purpose_Association_Free',\n",
       " 'D14_ML_Purpose_Clustering',\n",
       " 'D14_ML_Purpose_Clustering_Free',\n",
       " 'D14_ML_Purpose_Others',\n",
       " 'D14_ML_Purpose_Others_Free',\n",
       " 'D15_ML_Algorithms_Apriori',\n",
       " 'D15_ML_Algorithms_Bayesian',\n",
       " 'D15_ML_Algorithms_DBSCAN',\n",
       " 'D15_ML_Algorithms_Decision_Tree',\n",
       " 'D15_ML_Algorithms_Ensembles',\n",
       " 'D15_ML_Algorithms_Gaussian_Mixture',\n",
       " 'D15_ML_Algorithms_KMeans',\n",
       " 'D15_ML_Algorithms_KNN',\n",
       " 'D15_ML_Algorithms_Linear_Regression',\n",
       " 'D15_ML_Algorithms_Logistic_Regression',\n",
       " 'D15_ML_Algorithms_Naive_Bayes',\n",
       " 'D15_ML_Algorithms_Neural_Networks',\n",
       " 'D15_ML_Algorithms_SVM',\n",
       " 'D15_ML_Algorithms_Others',\n",
       " 'D15_ML_Algorithms_Others_Free',\n",
       " 'Q1_ML_Life_Cycle_Importance_Problem_Understanding',\n",
       " 'Q1_ML_Life_Cycle_Importance_Data_Collection',\n",
       " 'Q1_ML_Life_Cycle_Importance_Data_Pre-Processing',\n",
       " 'Q1_ML_Life_Cycle_Importance_Model_Creation',\n",
       " 'Q1_ML_Life_Cycle_Importance_Model_Evaluation',\n",
       " 'Q1_ML_Life_Cycle_Importance_Model_Deployment',\n",
       " 'Q1_ML_Life_Cycle_Importance_Model_Monitoring',\n",
       " 'Q2_ML_Life_Cycle_Difficulty_Problem_Understanding',\n",
       " 'Q2_ML_Life_Cycle_Difficulty_Data_Collection',\n",
       " 'Q2_ML_Life_Cycle_Difficulty_Data_Pre-Processing',\n",
       " 'Q2_ML_Life_Cycle_Difficulty_Model_Creation',\n",
       " 'Q2_ML_Life_Cycle_Difficulty_Model_Evaluation',\n",
       " 'Q2_ML_Life_Cycle_Difficulty_Model_Deployment',\n",
       " 'Q2_ML_Life_Cycle_Difficulty_Model_Monitoring',\n",
       " 'Q3_ML_Life_Cycle_Effort_Problem_Understanding',\n",
       " 'Q3_ML_Life_Cycle_Effort_Data_Collection',\n",
       " 'Q3_ML_Life_Cycle_Effort_Data_Pre-Processing',\n",
       " 'Q3_ML_Life_Cycle_Effort_Model_Creation',\n",
       " 'Q3_ML_Life_Cycle_Effort_Model_Evaluation',\n",
       " 'Q3_ML_Life_Cycle_Effort_Model_Deployment',\n",
       " 'Q3_ML_Life_Cycle_Effort_Model_Monitoring',\n",
       " 'Q4_ML_Life_Cycle_Main_Problems_Problem_Understanding_Free_First',\n",
       " 'Q4_ML_Life_Cycle_Main_Problems_Problem_Understanding_Free_Second',\n",
       " 'Q4_ML_Life_Cycle_Main_Problems_Problem_Understanding_Free_Third',\n",
       " 'Q4_ML_Life_Cycle_Main_Problems_Data_Collection_Free_First',\n",
       " 'Q4_ML_Life_Cycle_Main_Problems_Data_Collection_Free_Second',\n",
       " 'Q4_ML_Life_Cycle_Main_Problems_Data_Collection_Free_Third',\n",
       " 'Q4_ML_Life_Cycle_Main_Problems_Data_Pre-Processing_Free_First',\n",
       " 'Q4_ML_Life_Cycle_Main_Problems_Data_Pre-Processing_Free_Second',\n",
       " 'Q4_ML_Life_Cycle_Main_Problems_Data_Pre-Processing_Free_Third',\n",
       " 'Q4_ML_Life_Cycle_Main_Problems_Model_Creation_Free_First',\n",
       " 'Q4_ML_Life_Cycle_Main_Problems_Model_Creation_Free_Second',\n",
       " 'Q4_ML_Life_Cycle_Main_Problems_Model_Creation_Free_Third',\n",
       " 'Q4_ML_Life_Cycle_Main_Problems_Model_Evaluation_Free_First',\n",
       " 'Q4_ML_Life_Cycle_Main_Problems_Model_Evaluation_Free_Second',\n",
       " 'Q4_ML_Life_Cycle_Main_Problems_Model_Evaluation_Free_Third',\n",
       " 'Q4_ML_Life_Cycle_Main_Problems_Model_Deployment_Free_First',\n",
       " 'Q4_ML_Life_Cycle_Main_Problems_Model_Deployment_Free_Second',\n",
       " 'Q4_ML_Life_Cycle_Main_Problems_Model_Deployment_Free_Third',\n",
       " 'Q4_ML_Life_Cycle_Main_Problems_Model_Monitoring_Free_First',\n",
       " 'Q4_ML_Life_Cycle_Main_Problems_Model_Monitoring_Free_Second',\n",
       " 'Q4_ML_Life_Cycle_Main_Problems_Model_Monitoring_Free_Third',\n",
       " 'Q4_ML_Life_Cycle_Main_Problems_Model_Other_Free_First',\n",
       " 'Q4_ML_Life_Cycle_Main_Problems_Model_Other_Free_Second',\n",
       " 'Q4_ML_Life_Cycle_Main_Problems_Model_Other_Free_Third',\n",
       " 'Q5_ML_Life_Cycle_Main_Problems_Ranking_Free_First',\n",
       " 'Q5_ML_Life_Cycle_Main_Problems_Ranking_Free_Second',\n",
       " 'Q5_ML_Life_Cycle_Main_Problems_Ranking_Free_Third',\n",
       " 'Q6_ML_Solution_Optimality',\n",
       " 'Q7_ML_Solution_Optimality_Extra_Effort',\n",
       " 'Q8_ML_Addressing_Project_Lead',\n",
       " 'Q8_ML_Addressing_Business_Analyst',\n",
       " 'Q8_ML_Addressing_Requirement_Engineer',\n",
       " 'Q8_ML_Addressing_Solution_Architect',\n",
       " 'Q8_ML_Addressing_Data_Scientist',\n",
       " 'Q8_ML_Addressing_Developer',\n",
       " 'Q8_ML_Addressing_Tester',\n",
       " 'Q8_ML_Addressing_Others',\n",
       " 'Q8_ML_Addressing_Others_Free',\n",
       " 'Q9_ML_Elicitation_Interviews',\n",
       " 'Q9_ML_Elicitation_Scenarios',\n",
       " 'Q9_ML_Elicitation_Prototyping',\n",
       " 'Q9_ML_Elicitation_Workshops_Meetings',\n",
       " 'Q9_ML_Elicitation_Observation',\n",
       " 'Q9_ML_Elicitation_Others',\n",
       " 'Q9_ML_Elicitation_Others_Free',\n",
       " 'Q10_ML_Documentation_Not_Documented',\n",
       " 'Q10_ML_Documentation_Vision_Document',\n",
       " 'Q10_ML_Documentation_Requirements_Lists',\n",
       " 'Q10_ML_Documentation_Goal_Models',\n",
       " 'Q10_ML_Documentation_Use_Case_Models',\n",
       " 'Q10_ML_Documentation_Prototypes',\n",
       " 'Q10_ML_Documentation_User_Stories',\n",
       " 'Q10_ML_Documentation_BDD_Scenarios',\n",
       " 'Q10_ML_Documentation_MLCanvas',\n",
       " 'Q10_ML_Documentation_Notebooks',\n",
       " 'Q10_ML_Documentation_Data_Models',\n",
       " 'Q10_ML_Documentation_Others',\n",
       " 'Q10_ML_Documentation_Others_Free',\n",
       " 'Q11_ML_NFRs_Not_Considered',\n",
       " 'Q11_ML_NFRs_Data_Quality',\n",
       " 'Q11_ML_NFRs_Model_Accountability',\n",
       " 'Q11_ML_NFRs_Model_Ethics_Fairness',\n",
       " 'Q11_ML_NFRs_Model_Explainability',\n",
       " 'Q11_ML_NFRs_Model_Interactiveness',\n",
       " 'Q11_ML_NFRs_Model_Reliability',\n",
       " 'Q11_ML_NFRs_Model_Transparency',\n",
       " 'Q11_ML_NFRs_System_Compatibility',\n",
       " 'Q11_ML_NFRs_System_Maintanibility',\n",
       " 'Q11_ML_NFRs_System_Performance',\n",
       " 'Q11_ML_NFRs_System_Portability',\n",
       " 'Q11_ML_NFRs_System_Privacy',\n",
       " 'Q11_ML_NFRs_System_Reliability',\n",
       " 'Q11_ML_NFRs_System_Safety',\n",
       " 'Q11_ML_NFRs_System_Security',\n",
       " 'Q11_ML_NFRs_System_Usability',\n",
       " 'Q11_ML_NFRs_Others',\n",
       " 'Q11_ML_NFRs_Others_Free',\n",
       " 'Q12_ML_Most_Difficult_Activity_Customer_Expectactions',\n",
       " 'Q12_ML_Most_Difficult_Activity_Eliciting_Analyzing',\n",
       " 'Q12_ML_Most_Difficult_Activity_Aligning_Requirements_Data',\n",
       " 'Q12_ML_Most_Difficult_Activity_Conflicts',\n",
       " 'Q12_ML_Most_Difficult_Activity_New_Quality_Attributes',\n",
       " 'Q12_ML_Most_Difficult_Activity_Documentation',\n",
       " 'Q12_ML_Most_Difficult_Activity_Selecting_Metrics',\n",
       " 'Q12_ML_Most_Difficult_Activity_Verification',\n",
       " 'Q12_ML_Most_Difficult_Activity_Changing_Requirements',\n",
       " 'Q12_ML_Most_Difficult_Activity_Others',\n",
       " 'Q12_ML_Most_Difficult_Activity_Others_Free',\n",
       " 'Q13_Model_Deploy_Approach_Embedded_Model',\n",
       " 'Q13_Model_Deploy_Approach_Service',\n",
       " 'Q13_Model_Deploy_Approach_PaaS',\n",
       " 'Q13_Model_Deploy_Approach_Others',\n",
       " 'Q13_Model_Deploy_Approach_Others_Free',\n",
       " 'Q14_Model_Deploy_Pipeline_Yes',\n",
       " 'Q14_Model_Deploy_Pipeline_Yes_Free',\n",
       " 'Q14_Model_Deploy_Pipeline_No',\n",
       " 'Q15_Model_Deploy_Production_Monitoring',\n",
       " 'Q16_Model_Monitor_Aspects_Input_And_Output',\n",
       " 'Q16_Model_Monitor_Aspects_Interpretability_Output',\n",
       " 'Q16_Model_Monitor_Aspects_Output_And_Decisions',\n",
       " 'Q16_Model_Monitor_Aspects_Fairness',\n",
       " 'Q16_Model_Monitor_Aspects_Others',\n",
       " 'Q16_Model_Monitor_Aspects_Others_Free',\n",
       " 'Q17_Automated_Machine_Learning_Tools_Yes_No',\n",
       " 'Q17_Automated_Machine_Learning_Tools_Yes_Free']"
      ]
     },
     "execution_count": 6,
     "metadata": {},
     "output_type": "execute_result"
    }
   ],
   "source": [
    "list(dataframe_obj.df.columns[3:len(dataframe_obj.df.columns) - 1])"
   ]
  },
  {
   "cell_type": "code",
   "execution_count": 12,
   "id": "b30280fd-c396-4a36-83aa-bf9a3c12f92b",
   "metadata": {},
   "outputs": [
    {
     "name": "stdout",
     "output_type": "stream",
     "text": [
      "174\n"
     ]
    }
   ],
   "source": [
    "all_columns = []\n",
    "for col in dataframe_obj.df.columns[3:len(dataframe_obj.df.columns) - 1]:\n",
    "    if 'Free' not in col:\n",
    "        all_columns.append(col)\n",
    "\n",
    "total = 0\n",
    "# for each respondent\n",
    "for idx, row in dataframe_obj.df.iterrows():\n",
    "    nan_values = []\n",
    "    # we check how was his performance along the questions\n",
    "    for column in all_columns:\n",
    "        if str(row[column]) == '-99' or str(row[column]) == 'nan' or str(row[column]) == '-66' or str(row[column]) == '-77':\n",
    "            nan_values.append(True)\n",
    "        else:\n",
    "            nan_values.append(False)\n",
    "\n",
    "    # compute the answersa which were not nan\n",
    "    total_valid_answers = 0\n",
    "    for nv in nan_values:\n",
    "        if not nv:\n",
    "            total_valid_answers += 1\n",
    "\n",
    "    # consider only people who answered at leat 95% of all columns\n",
    "    if total_valid_answers > len(all_columns) * 0.95:\n",
    "        total += 1\n",
    "print(total)"
   ]
  },
  {
   "cell_type": "code",
   "execution_count": 13,
   "id": "f14a5989-56da-49c6-829d-46b9c3532e74",
   "metadata": {},
   "outputs": [],
   "source": [
    "all_answers = len(dataframe_obj.df['D2_Country'])"
   ]
  },
  {
   "cell_type": "code",
   "execution_count": 14,
   "id": "2a7f90a5-78cf-43fd-a7b9-e1298894f1f2",
   "metadata": {},
   "outputs": [
    {
     "data": {
      "text/plain": [
       "102"
      ]
     },
     "execution_count": 14,
     "metadata": {},
     "output_type": "execute_result"
    }
   ],
   "source": [
    "all_answers - total"
   ]
  },
  {
   "cell_type": "code",
   "execution_count": 15,
   "id": "1a0dae03-c201-4e64-b63c-807962f3a6f9",
   "metadata": {},
   "outputs": [
    {
     "data": {
      "text/plain": [
       "153"
      ]
     },
     "execution_count": 15,
     "metadata": {},
     "output_type": "execute_result"
    }
   ],
   "source": [
    "len(all_columns)"
   ]
  },
  {
   "cell_type": "code",
   "execution_count": 16,
   "id": "192493b1-8af0-4964-9a55-b61765685847",
   "metadata": {},
   "outputs": [
    {
     "data": {
      "text/plain": [
       "145.35"
      ]
     },
     "execution_count": 16,
     "metadata": {},
     "output_type": "execute_result"
    }
   ],
   "source": [
    "len(all_columns) * 0.95"
   ]
  }
 ],
 "metadata": {
  "kernelspec": {
   "display_name": "Python 3 (ipykernel)",
   "language": "python",
   "name": "python3"
  },
  "language_info": {
   "codemirror_mode": {
    "name": "ipython",
    "version": 3
   },
   "file_extension": ".py",
   "mimetype": "text/x-python",
   "name": "python",
   "nbconvert_exporter": "python",
   "pygments_lexer": "ipython3",
   "version": "3.10.9"
  }
 },
 "nbformat": 4,
 "nbformat_minor": 5
}
