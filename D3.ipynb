{
 "cells": [
  {
   "cell_type": "markdown",
   "id": "e51a08d7",
   "metadata": {},
   "source": [
    "# Question D3"
   ]
  },
  {
   "cell_type": "markdown",
   "id": "2fd949b9",
   "metadata": {},
   "source": [
    "*Question*: What is the size of the organization you currently work for?"
   ]
  },
  {
   "cell_type": "markdown",
   "id": "909b1af1",
   "metadata": {},
   "source": [
    "*Answer Type*: Single Option"
   ]
  },
  {
   "cell_type": "markdown",
   "id": "9e69ad6a",
   "metadata": {},
   "source": [
    "*Options*: [1-10 employees, 11-50 employees, 51-250 employees, 251-500 employees, 501-1,000 employees, 1,001-2,000 employees, More than 2,000 employees]"
   ]
  },
  {
   "cell_type": "markdown",
   "id": "abaedda1",
   "metadata": {},
   "source": [
    "### Necessary Libraries"
   ]
  },
  {
   "cell_type": "code",
   "execution_count": 1,
   "id": "473efead",
   "metadata": {},
   "outputs": [],
   "source": [
    "import pandas as pd\n",
    "from utils.basic import rename_values\n",
    "from utils.dataframe import DataframeUtils\n",
    "from utils.plot import PlotUtils\n",
    "from utils.bootstrapping import BootstrappingUtils"
   ]
  },
  {
   "cell_type": "markdown",
   "id": "c3bb768b",
   "metadata": {},
   "source": [
    "### Dataframe Init"
   ]
  },
  {
   "cell_type": "code",
   "execution_count": 2,
   "id": "83000cd3",
   "metadata": {},
   "outputs": [],
   "source": [
    "dataframe_obj = DataframeUtils('./data/main_data.csv', ';', './data/unused_columns.txt', './data/formatted_columns.txt')\n",
    "# the index is not important, but when we internally format df we need to reset index\n",
    "dataframe_obj.df = dataframe_obj.df.reset_index(drop=True)"
   ]
  },
  {
   "cell_type": "code",
   "execution_count": 3,
   "id": "7e79b560-feeb-4d9d-b5c1-3a521ebf25d7",
   "metadata": {},
   "outputs": [],
   "source": [
    "# For PROFES, we discarded suspended submissions (e.g., remove those who didn't complete the survey).\n",
    "dataframe_obj.df.drop(dataframe_obj.df[dataframe_obj.df['Status'] == 'Suspended (22)'].index, inplace = True)"
   ]
  },
  {
   "cell_type": "markdown",
   "id": "5b60fc63",
   "metadata": {},
   "source": [
    "### Basic Analysis"
   ]
  },
  {
   "cell_type": "code",
   "execution_count": 4,
   "id": "a8ee2770",
   "metadata": {},
   "outputs": [
    {
     "data": {
      "text/plain": [
       "0        1,001-2,000 employees\n",
       "1    More than 2,000 employees\n",
       "2             51-250 employees\n",
       "3    More than 2,000 employees\n",
       "4          501-1,000 employees\n",
       "Name: D3_Company_Size, dtype: object"
      ]
     },
     "execution_count": 4,
     "metadata": {},
     "output_type": "execute_result"
    }
   ],
   "source": [
    "dataframe_obj.df['D3_Company_Size'].head()"
   ]
  },
  {
   "cell_type": "code",
   "execution_count": 5,
   "id": "579ec790",
   "metadata": {},
   "outputs": [],
   "source": [
    "# mapping of old labels to new one\n",
    "d3_rename_mapping = {\n",
    "    '1-10 employees': '1-10',\n",
    "    '11-50 employees': '11-50',\n",
    "    '51-250 employees': '51-250',\n",
    "    '251-500 employees': '251-500',\n",
    "    '501-1,000 employees': '501-1000',\n",
    "    '1,001-2,000 employees': '1001-2000',\n",
    "    'More than 2,000 employees': '+2000'\n",
    "}"
   ]
  },
  {
   "cell_type": "code",
   "execution_count": 6,
   "id": "9d9ea3d6",
   "metadata": {},
   "outputs": [],
   "source": [
    "# update values in D3 column\n",
    "dataframe_obj.df['D3_Company_Size'] = rename_values(rename_mapping=d3_rename_mapping,  \n",
    "                                                    values=list(dataframe_obj.df['D3_Company_Size']))"
   ]
  },
  {
   "cell_type": "code",
   "execution_count": 7,
   "id": "94123c10",
   "metadata": {},
   "outputs": [],
   "source": [
    "# cleaning data\n",
    "dataframe_obj.remove_value_from_df('0','D3_Company_Size')"
   ]
  },
  {
   "cell_type": "code",
   "execution_count": 8,
   "id": "ff0f4020",
   "metadata": {},
   "outputs": [],
   "source": [
    "positions_mapping = {\n",
    "    '+2000': 6,\n",
    "    '51-250': 2,\n",
    "    '11-50': 1,\n",
    "    '1001-2000': 5,\n",
    "    '1-10': 0,\n",
    "    '251-500': 3,\n",
    "    '501-1000': 4\n",
    "}"
   ]
  },
  {
   "cell_type": "code",
   "execution_count": 9,
   "id": "f0858245",
   "metadata": {},
   "outputs": [],
   "source": [
    "# barplot data\n",
    "indexes = list(dataframe_obj.df['D3_Company_Size'].value_counts().index)\n",
    "values = list(dataframe_obj.df['D3_Company_Size'].value_counts())\n",
    "chart_positions = [positions_mapping[idx] for idx in indexes]"
   ]
  },
  {
   "cell_type": "code",
   "execution_count": 10,
   "id": "fdd04b3e",
   "metadata": {},
   "outputs": [],
   "source": [
    "# plot object\n",
    "d3_plot = PlotUtils(pd.DataFrame(\n",
    "    data={'Company Size': indexes, 'Answers': values, 'Chart Position': chart_positions}\n",
    ").sort_values(by=['Chart Position'], ascending=True))"
   ]
  },
  {
   "cell_type": "code",
   "execution_count": 11,
   "id": "7ae02664",
   "metadata": {},
   "outputs": [
    {
     "data": {
      "text/html": [
       "<div>\n",
       "<style scoped>\n",
       "    .dataframe tbody tr th:only-of-type {\n",
       "        vertical-align: middle;\n",
       "    }\n",
       "\n",
       "    .dataframe tbody tr th {\n",
       "        vertical-align: top;\n",
       "    }\n",
       "\n",
       "    .dataframe thead th {\n",
       "        text-align: right;\n",
       "    }\n",
       "</style>\n",
       "<table border=\"1\" class=\"dataframe\">\n",
       "  <thead>\n",
       "    <tr style=\"text-align: right;\">\n",
       "      <th></th>\n",
       "      <th>Company Size</th>\n",
       "      <th>Answers</th>\n",
       "      <th>Chart Position</th>\n",
       "    </tr>\n",
       "  </thead>\n",
       "  <tbody>\n",
       "    <tr>\n",
       "      <th>3</th>\n",
       "      <td>1-10</td>\n",
       "      <td>16</td>\n",
       "      <td>0</td>\n",
       "    </tr>\n",
       "    <tr>\n",
       "      <th>2</th>\n",
       "      <td>11-50</td>\n",
       "      <td>21</td>\n",
       "      <td>1</td>\n",
       "    </tr>\n",
       "    <tr>\n",
       "      <th>1</th>\n",
       "      <td>51-250</td>\n",
       "      <td>25</td>\n",
       "      <td>2</td>\n",
       "    </tr>\n",
       "    <tr>\n",
       "      <th>5</th>\n",
       "      <td>251-500</td>\n",
       "      <td>14</td>\n",
       "      <td>3</td>\n",
       "    </tr>\n",
       "    <tr>\n",
       "      <th>6</th>\n",
       "      <td>501-1000</td>\n",
       "      <td>6</td>\n",
       "      <td>4</td>\n",
       "    </tr>\n",
       "    <tr>\n",
       "      <th>4</th>\n",
       "      <td>1001-2000</td>\n",
       "      <td>15</td>\n",
       "      <td>5</td>\n",
       "    </tr>\n",
       "    <tr>\n",
       "      <th>0</th>\n",
       "      <td>+2000</td>\n",
       "      <td>80</td>\n",
       "      <td>6</td>\n",
       "    </tr>\n",
       "  </tbody>\n",
       "</table>\n",
       "</div>"
      ],
      "text/plain": [
       "  Company Size  Answers  Chart Position\n",
       "3         1-10       16               0\n",
       "2        11-50       21               1\n",
       "1       51-250       25               2\n",
       "5      251-500       14               3\n",
       "6     501-1000        6               4\n",
       "4    1001-2000       15               5\n",
       "0        +2000       80               6"
      ]
     },
     "execution_count": 11,
     "metadata": {},
     "output_type": "execute_result"
    }
   ],
   "source": [
    "d3_plot.df"
   ]
  },
  {
   "cell_type": "code",
   "execution_count": 12,
   "id": "2a821cac",
   "metadata": {},
   "outputs": [
    {
     "name": "stderr",
     "output_type": "stream",
     "text": [
      "C:\\Users\\Antonio Pedro Alves\\.virtualenvs\\pfp-antonio-pedro-lcinjCty\\lib\\site-packages\\seaborn\\axisgrid.py:118: UserWarning: The figure layout has changed to tight\n",
      "  self._figure.tight_layout(*args, **kwargs)\n"
     ]
    },
    {
     "data": {
      "image/png": "[encoded data removed]",
      "text/plain": [
       "<Figure size 1000x500 with 1 Axes>"
      ]
     },
     "metadata": {},
     "output_type": "display_data"
    }
   ],
   "source": [
    "total_answers = 'N = ' + str(len(list(dataframe_obj.df['D3_Company_Size'])))\n",
    "total_answers_int = len(list(dataframe_obj.df['D3_Company_Size']))\n",
    "\n",
    "d3_plot.single_barplot(x_axis=\"Company Size\", y_axis=\"Answers\", \n",
    "                       title=\"What is the size of the organization you currently work for?\",\n",
    "                       x_label=\"Company Size\", y_label=\"Valid Answers\", x_label_rotation=0, color=\"#429bf5\", \n",
    "                       total_answers=total_answers, bar_orientation='vertical')"
   ]
  },
  {
   "cell_type": "markdown",
   "id": "2362eae7",
   "metadata": {},
   "source": [
    "### Bootstrapping Analysis"
   ]
  },
  {
   "cell_type": "code",
   "execution_count": 13,
   "id": "82c8c82f",
   "metadata": {},
   "outputs": [],
   "source": [
    "valid_options_list = list(dataframe_obj.df['D3_Company_Size'].unique())\n",
    "valid_answers_list = list(dataframe_obj.df['D3_Company_Size'])"
   ]
  },
  {
   "cell_type": "code",
   "execution_count": 14,
   "id": "303fb546",
   "metadata": {},
   "outputs": [],
   "source": [
    "replacements = 1000\n",
    "population_sample_size = total_answers_int # equals n - total valid answers\n",
    "\n",
    "bootstrapping_obj = BootstrappingUtils(valid_answers_list, valid_options_list, replacements, population_sample_size, 95)"
   ]
  },
  {
   "cell_type": "code",
   "execution_count": 15,
   "id": "b5a50018",
   "metadata": {},
   "outputs": [],
   "source": [
    "bootstrapped_dict_data = bootstrapping_obj.bootstrapping('single')"
   ]
  },
  {
   "cell_type": "code",
   "execution_count": 18,
   "id": "ff94b1eb-86d1-45fd-8c2a-91f5c2327044",
   "metadata": {},
   "outputs": [
    {
     "data": {
      "text/plain": [
       "[0.12,\n",
       " 0.129,\n",
       " 0.124,\n",
       " 0.127,\n",
       " 0.114,\n",
       " 0.12,\n",
       " 0.123,\n",
       " 0.124,\n",
       " 0.124,\n",
       " 0.114,\n",
       " 0.114,\n",
       " 0.132,\n",
       " 0.106,\n",
       " 0.122,\n",
       " 0.134,\n",
       " 0.122,\n",
       " 0.119,\n",
       " 0.131,\n",
       " 0.129,\n",
       " 0.106,\n",
       " 0.111,\n",
       " 0.115,\n",
       " 0.123,\n",
       " 0.133,\n",
       " 0.117,\n",
       " 0.125,\n",
       " 0.116,\n",
       " 0.146,\n",
       " 0.126,\n",
       " 0.121,\n",
       " 0.115,\n",
       " 0.108,\n",
       " 0.1,\n",
       " 0.111,\n",
       " 0.125,\n",
       " 0.118,\n",
       " 0.135,\n",
       " 0.104,\n",
       " 0.108,\n",
       " 0.11,\n",
       " 0.128,\n",
       " 0.131,\n",
       " 0.103,\n",
       " 0.097,\n",
       " 0.116,\n",
       " 0.129,\n",
       " 0.12,\n",
       " 0.129,\n",
       " 0.114,\n",
       " 0.129,\n",
       " 0.115,\n",
       " 0.112,\n",
       " 0.128,\n",
       " 0.13,\n",
       " 0.119,\n",
       " 0.127,\n",
       " 0.116,\n",
       " 0.121,\n",
       " 0.134,\n",
       " 0.14,\n",
       " 0.128,\n",
       " 0.107,\n",
       " 0.103,\n",
       " 0.116,\n",
       " 0.118,\n",
       " 0.121,\n",
       " 0.124,\n",
       " 0.103,\n",
       " 0.114,\n",
       " 0.124,\n",
       " 0.121,\n",
       " 0.119,\n",
       " 0.117,\n",
       " 0.108,\n",
       " 0.111,\n",
       " 0.13,\n",
       " 0.131,\n",
       " 0.112,\n",
       " 0.124,\n",
       " 0.129,\n",
       " 0.111,\n",
       " 0.118,\n",
       " 0.121,\n",
       " 0.116,\n",
       " 0.114,\n",
       " 0.109,\n",
       " 0.125,\n",
       " 0.129,\n",
       " 0.103,\n",
       " 0.117,\n",
       " 0.117,\n",
       " 0.103,\n",
       " 0.132,\n",
       " 0.115,\n",
       " 0.136,\n",
       " 0.125,\n",
       " 0.118,\n",
       " 0.118,\n",
       " 0.117,\n",
       " 0.117,\n",
       " 0.137,\n",
       " 0.12,\n",
       " 0.118,\n",
       " 0.118,\n",
       " 0.127,\n",
       " 0.125,\n",
       " 0.143,\n",
       " 0.119,\n",
       " 0.106,\n",
       " 0.128,\n",
       " 0.114,\n",
       " 0.12,\n",
       " 0.115,\n",
       " 0.114,\n",
       " 0.116,\n",
       " 0.125,\n",
       " 0.134,\n",
       " 0.119,\n",
       " 0.105,\n",
       " 0.097,\n",
       " 0.125,\n",
       " 0.119,\n",
       " 0.116,\n",
       " 0.111,\n",
       " 0.127,\n",
       " 0.105,\n",
       " 0.126,\n",
       " 0.105,\n",
       " 0.126,\n",
       " 0.136,\n",
       " 0.101,\n",
       " 0.101,\n",
       " 0.119,\n",
       " 0.108,\n",
       " 0.123,\n",
       " 0.117,\n",
       " 0.11,\n",
       " 0.123,\n",
       " 0.101,\n",
       " 0.12,\n",
       " 0.124,\n",
       " 0.126,\n",
       " 0.128,\n",
       " 0.128,\n",
       " 0.121,\n",
       " 0.131,\n",
       " 0.116,\n",
       " 0.111,\n",
       " 0.111,\n",
       " 0.1,\n",
       " 0.12,\n",
       " 0.136,\n",
       " 0.112,\n",
       " 0.115,\n",
       " 0.109,\n",
       " 0.12,\n",
       " 0.124,\n",
       " 0.123,\n",
       " 0.114,\n",
       " 0.111,\n",
       " 0.122,\n",
       " 0.125,\n",
       " 0.119,\n",
       " 0.124,\n",
       " 0.111,\n",
       " 0.101,\n",
       " 0.115,\n",
       " 0.1,\n",
       " 0.123,\n",
       " 0.119,\n",
       " 0.1,\n",
       " 0.105,\n",
       " 0.118,\n",
       " 0.141,\n",
       " 0.114,\n",
       " 0.107,\n",
       " 0.122]"
      ]
     },
     "execution_count": 18,
     "metadata": {},
     "output_type": "execute_result"
    }
   ],
   "source": [
    "bootstrapped_dict_data[idx]['population']"
   ]
  },
  {
   "cell_type": "code",
   "execution_count": 16,
   "id": "2e5f70b2",
   "metadata": {},
   "outputs": [],
   "source": [
    "# get a pair of values between dict key and all the list values inside that key \n",
    "# key: [val_1, val_2] ---> [(key, val_1), (key, val_2)...]\n",
    "indexes = []\n",
    "values = []\n",
    "chart_positions = []\n",
    "for idx in bootstrapped_dict_data:\n",
    "    indexes += [idx for _ in range(len(bootstrapped_dict_data[idx]['population']))]\n",
    "    values += bootstrapped_dict_data[idx]['population']\n",
    "    chart_positions += [positions_mapping[idx] for _ in range(len(bootstrapped_dict_data[idx]['population']))]"
   ]
  },
  {
   "cell_type": "code",
   "execution_count": 17,
   "id": "a7ed3e11",
   "metadata": {},
   "outputs": [],
   "source": [
    "values = [100 * v for v in values]"
   ]
  },
  {
   "cell_type": "code",
   "execution_count": 18,
   "id": "9f4fc8fc",
   "metadata": {},
   "outputs": [],
   "source": [
    "# plot object for bootstrapped data\n",
    "d3_boot_plot = PlotUtils(pd.DataFrame(\n",
    "    data={'Company Size': indexes, 'Value': values, 'Chart Position': chart_positions}\n",
    ").sort_values(by=['Chart Position'], ascending=True))"
   ]
  },
  {
   "cell_type": "code",
   "execution_count": 19,
   "id": "69cb3170",
   "metadata": {},
   "outputs": [
    {
     "name": "stderr",
     "output_type": "stream",
     "text": [
      "C:\\Users\\Antonio Pedro Alves\\.virtualenvs\\pfp-antonio-pedro-lcinjCty\\lib\\site-packages\\seaborn\\axisgrid.py:118: UserWarning: The figure layout has changed to tight\n",
      "  self._figure.tight_layout(*args, **kwargs)\n"
     ]
    },
    {
     "data": {
      "image/png": "[encoded data removed]",
      "text/plain": [
       "<Figure size 1000x500 with 1 Axes>"
      ]
     },
     "metadata": {},
     "output_type": "display_data"
    }
   ],
   "source": [
    "d3_boot_plot.single_barplot(x_axis=\"Company Size\", y_axis=\"Value\", \n",
    "                       title=\"Bootstrapping - 95% confidence \\n What is the size of the organization you currently work for?\",\n",
    "                       x_label=\"Percentage of Answers (%)\", y_label=\"Company Size\", x_label_rotation=0, color=\"#429bf5\", \n",
    "                       total_answers=total_answers, bar_orientation='vertical')"
   ]
  },
  {
   "cell_type": "code",
   "execution_count": 20,
   "id": "064dca6a",
   "metadata": {},
   "outputs": [
    {
     "name": "stdout",
     "output_type": "stream",
     "text": [
      "Option: (Lower Value, Mean, Upper Value)\n",
      "1001-2000:(0.08277065359061835, 0.08398870056497174, 0.08520674753932513)\n",
      "+2000:(0.44944545298547, 0.4516158192090396, 0.4537861854326092)\n",
      "51-250:(0.13947911539512037, 0.14110734463276836, 0.14273557387041635)\n",
      "501-1000:(0.03323162317214763, 0.03406214689265537, 0.034892670613163104)\n",
      "1-10:(0.09014564820628491, 0.09148587570621468, 0.09282610320614444)\n",
      "251-500:(0.0781939606203859, 0.07939548022598869, 0.08059699983159148)\n",
      "11-50:(0.11706807852450273, 0.1183446327683616, 0.11962118701222048)\n"
     ]
    }
   ],
   "source": [
    "# confidence for each option\n",
    "print(\"Option: (Lower Value, Mean, Upper Value)\")\n",
    "for idx in bootstrapped_dict_data:\n",
    "    print(idx + ':' + str(bootstrapped_dict_data[idx]['confidence']))"
   ]
  },
  {
   "cell_type": "code",
   "execution_count": 21,
   "id": "503768d1",
   "metadata": {},
   "outputs": [
    {
     "name": "stdout",
     "output_type": "stream",
     "text": [
      "Option: (Lower Value, Mean, Upper Value)\n",
      "1001-2000:: P = 8.399 [8.277, 8.521]\n",
      "+2000:: P = 45.162 [44.945, 45.379]\n",
      "51-250:: P = 14.111 [13.948, 14.274]\n",
      "501-1000:: P = 3.406 [3.323, 3.489]\n",
      "1-10:: P = 9.149 [9.015, 9.283]\n",
      "251-500:: P = 7.94 [7.819, 8.06]\n",
      "11-50:: P = 11.834 [11.707, 11.962]\n"
     ]
    }
   ],
   "source": [
    "# confidence for each option\n",
    "print(\"Option: (Lower Value, Mean, Upper Value)\")\n",
    "for idx in bootstrapped_dict_data:\n",
    "    print(idx + ':: P = ' + str(round((bootstrapped_dict_data[idx]['confidence'][1] * 100), 3)) + \" [\" + str(round((bootstrapped_dict_data[idx]['confidence'][0] * 100), 3)) + \", \" + str(round((bootstrapped_dict_data[idx]['confidence'][2] * 100), 3)) + \"]\")"
   ]
  }
 ],
 "metadata": {
  "kernelspec": {
   "display_name": "Python 3 (ipykernel)",
   "language": "python",
   "name": "python3"
  },
  "language_info": {
   "codemirror_mode": {
    "name": "ipython",
    "version": 3
   },
   "file_extension": ".py",
   "mimetype": "text/x-python",
   "name": "python",
   "nbconvert_exporter": "python",
   "pygments_lexer": "ipython3",
   "version": "3.10.9"
  }
 },
 "nbformat": 4,
 "nbformat_minor": 5
}
