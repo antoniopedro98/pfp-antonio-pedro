{
 "cells": [
  {
   "cell_type": "markdown",
   "id": "e51a08d7",
   "metadata": {},
   "source": [
    "# Question Q17"
   ]
  },
  {
   "cell_type": "markdown",
   "id": "2fd949b9",
   "metadata": {},
   "source": [
    "*Question*: Do you use Automated Machine Learning (AutoML) tools in your ML-enabled system projects?"
   ]
  },
  {
   "cell_type": "markdown",
   "id": "909b1af1",
   "metadata": {},
   "source": [
    "*Answer Type*: Single Option and Free Field"
   ]
  },
  {
   "cell_type": "markdown",
   "id": "9e69ad6a",
   "metadata": {},
   "source": [
    "*Options*: [Yes, please specify; No]"
   ]
  },
  {
   "cell_type": "markdown",
   "id": "abaedda1",
   "metadata": {},
   "source": [
    "### Necessary Libraries"
   ]
  },
  {
   "cell_type": "code",
   "execution_count": 2,
   "id": "473efead",
   "metadata": {},
   "outputs": [],
   "source": [
    "import pandas as pd\n",
    "from utils.basic import rename_values, format_wordcloud_text\n",
    "from utils.dataframe import DataframeUtils\n",
    "from utils.plot import PlotUtils\n",
    "from utils.bootstrapping import BootstrappingUtils"
   ]
  },
  {
   "cell_type": "markdown",
   "id": "5b60fc63",
   "metadata": {},
   "source": [
    "### Basic Analysis"
   ]
  },
  {
   "cell_type": "code",
   "execution_count": 3,
   "id": "83000cd3",
   "metadata": {},
   "outputs": [],
   "source": [
    "dataframe_obj = DataframeUtils('./data/main_data.csv', ';', './data/unused_columns.txt', './data/formatted_columns.txt')\n",
    "# the index is not important, but when we internally format df we need to reset index\n",
    "dataframe_obj.df = dataframe_obj.df.reset_index(drop=True)"
   ]
  },
  {
   "cell_type": "code",
   "execution_count": 4,
   "id": "7d43bc12",
   "metadata": {},
   "outputs": [],
   "source": [
    "# question options\n",
    "auto_ml_options = {\n",
    "    'Q17_Automated_Machine_Learning_Tools_Yes_Free': 'Yes',\n",
    "    'Q17_Automated_Machine_Learning_Tools_Yes_No': 'No'\n",
    "}"
   ]
  },
  {
   "cell_type": "code",
   "execution_count": 5,
   "id": "a93c7109",
   "metadata": {},
   "outputs": [
    {
     "data": {
      "text/html": [
       "<div>\n",
       "<style scoped>\n",
       "    .dataframe tbody tr th:only-of-type {\n",
       "        vertical-align: middle;\n",
       "    }\n",
       "\n",
       "    .dataframe tbody tr th {\n",
       "        vertical-align: top;\n",
       "    }\n",
       "\n",
       "    .dataframe thead th {\n",
       "        text-align: right;\n",
       "    }\n",
       "</style>\n",
       "<table border=\"1\" class=\"dataframe\">\n",
       "  <thead>\n",
       "    <tr style=\"text-align: right;\">\n",
       "      <th></th>\n",
       "      <th>Q17_Automated_Machine_Learning_Tools_Yes_Free</th>\n",
       "      <th>Q17_Automated_Machine_Learning_Tools_Yes_No</th>\n",
       "    </tr>\n",
       "  </thead>\n",
       "  <tbody>\n",
       "    <tr>\n",
       "      <th>0</th>\n",
       "      <td>-99</td>\n",
       "      <td>0</td>\n",
       "    </tr>\n",
       "    <tr>\n",
       "      <th>1</th>\n",
       "      <td>-99</td>\n",
       "      <td>No</td>\n",
       "    </tr>\n",
       "    <tr>\n",
       "      <th>2</th>\n",
       "      <td>Own approach</td>\n",
       "      <td>Yes, Please, specify</td>\n",
       "    </tr>\n",
       "    <tr>\n",
       "      <th>3</th>\n",
       "      <td>-99</td>\n",
       "      <td>No</td>\n",
       "    </tr>\n",
       "    <tr>\n",
       "      <th>4</th>\n",
       "      <td>-99</td>\n",
       "      <td>No</td>\n",
       "    </tr>\n",
       "  </tbody>\n",
       "</table>\n",
       "</div>"
      ],
      "text/plain": [
       "  Q17_Automated_Machine_Learning_Tools_Yes_Free  \\\n",
       "0                                           -99   \n",
       "1                                           -99   \n",
       "2                                  Own approach   \n",
       "3                                           -99   \n",
       "4                                           -99   \n",
       "\n",
       "  Q17_Automated_Machine_Learning_Tools_Yes_No  \n",
       "0                                           0  \n",
       "1                                          No  \n",
       "2                        Yes, Please, specify  \n",
       "3                                          No  \n",
       "4                                          No  "
      ]
     },
     "execution_count": 5,
     "metadata": {},
     "output_type": "execute_result"
    }
   ],
   "source": [
    "dataframe_obj.df[['Q17_Automated_Machine_Learning_Tools_Yes_Free', 'Q17_Automated_Machine_Learning_Tools_Yes_No']].head()"
   ]
  },
  {
   "cell_type": "code",
   "execution_count": 8,
   "id": "ad0c6910",
   "metadata": {},
   "outputs": [
    {
     "data": {
      "text/plain": [
       "Q17_Automated_Machine_Learning_Tools_Yes_Free         Q17_Automated_Machine_Learning_Tools_Yes_No\n",
       "-99                                                   No                                             135\n",
       "-66                                                   -77                                             86\n",
       "-99                                                   0                                               21\n",
       "Auto-sklearn                                          Yes, Please, specify                             4\n",
       "Dataiku                                               Yes, Please, specify                             2\n",
       "H2O                                                   Yes, Please, specify                             2\n",
       "-99                                                   Yes, Please, specify                             2\n",
       "automl in R  / driveML in R / databricks Jobs         Yes, Please, specify                             1\n",
       "We develop our own Automated Machine Learning models  Yes, Please, specify                             1\n",
       "Várias                                                Yes, Please, specify                             1\n",
       "Hyperparameter tuning                                 Yes, Please, specify                             1\n",
       "Pytorch                                               Yes, Please, specify                             1\n",
       "Own approach                                          Yes, Please, specify                             1\n",
       "Our in house developed AutoML tool                    Yes, Please, specify                             1\n",
       "Only to establish a baseline                          Yes, Please, specify                             1\n",
       "Microsoft Azure Continuous Integration Pipeline       Yes, Please, specify                             1\n",
       "LUIS.AI                                               Yes, Please, specify                             1\n",
       "SageMaker Auto -Pilot                                 Yes, Please, specify                             1\n",
       " AutoKeras                                            Yes, Please, specify                             1\n",
       "H2O, DataRobot                                        Yes, Please, specify                             1\n",
       "Google AutoML, IBM Watson                             Yes, Please, specify                             1\n",
       "DataRobot                                             Yes, Please, specify                             1\n",
       "Custom in-house                                       Yes, Please, specify                             1\n",
       "Azure ml                                              Yes, Please, specify                             1\n",
       "AutoSklearn, Autopilot from AWS                       Yes, Please, specify                             1\n",
       "AutoML                                                Yes, Please, specify                             1\n",
       "AutoKeras, AutoML in Vertex AI                        Yes, Please, specify                             1\n",
       "Auto-sklearn, Auto-PyTorch                            Yes, Please, specify                             1\n",
       "Auto-sklearn and those specific by Cloud providers    Yes, Please, specify                             1\n",
       "Auto-keras ; NNI ; Custom made ones                   Yes, Please, specify                             1\n",
       "dataiku                                               Yes, Please, specify                             1\n",
       "dtype: int64"
      ]
     },
     "execution_count": 8,
     "metadata": {},
     "output_type": "execute_result"
    }
   ],
   "source": [
    "dataframe_obj.df[['Q17_Automated_Machine_Learning_Tools_Yes_Free', 'Q17_Automated_Machine_Learning_Tools_Yes_No']].value_counts()"
   ]
  },
  {
   "cell_type": "code",
   "execution_count": 10,
   "id": "d56f44a4",
   "metadata": {},
   "outputs": [
    {
     "data": {
      "text/plain": [
       "34"
      ]
     },
     "execution_count": 10,
     "metadata": {},
     "output_type": "execute_result"
    }
   ],
   "source": [
    "dataframe_obj.df['Q17_Automated_Machine_Learning_Tools_Yes_No'].value_counts()['Yes, Please, specify']"
   ]
  },
  {
   "cell_type": "code",
   "execution_count": null,
   "id": "1681bee8",
   "metadata": {},
   "outputs": [],
   "source": [
    "indexes = []\n",
    "values = []\n",
    "for auto_ml in auto_ml_options:\n",
    "    indexes.append(auto_ml_options[auto_ml])\n",
    "    if 'No' in auto_ml:\n",
    "        values.append(dataframe_obj.df[auto_ml].value_counts()[''])\n",
    "    else:\n",
    "        values.append(dataframe_obj.df[auto_ml].value_counts()[''])"
   ]
  },
  {
   "cell_type": "markdown",
   "id": "2362eae7",
   "metadata": {},
   "source": [
    "### Bootstrapping Analysis"
   ]
  },
  {
   "cell_type": "code",
   "execution_count": null,
   "id": "82c8c82f",
   "metadata": {},
   "outputs": [],
   "source": []
  }
 ],
 "metadata": {
  "kernelspec": {
   "display_name": "Python 3 (ipykernel)",
   "language": "python",
   "name": "python3"
  },
  "language_info": {
   "codemirror_mode": {
    "name": "ipython",
    "version": 3
   },
   "file_extension": ".py",
   "mimetype": "text/x-python",
   "name": "python",
   "nbconvert_exporter": "python",
   "pygments_lexer": "ipython3",
   "version": "3.10.9"
  }
 },
 "nbformat": 4,
 "nbformat_minor": 5
}
